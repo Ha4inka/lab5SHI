{
 "cells": [
  {
   "cell_type": "code",
   "execution_count": 1,
   "id": "98812e6e-3721-45c4-8e9f-6b131299d413",
   "metadata": {},
   "outputs": [],
   "source": [
    "import pandas as pd"
   ]
  },
  {
   "cell_type": "code",
   "execution_count": 2,
   "id": "731cb345-1f28-4a89-80ce-b329c5fa853b",
   "metadata": {},
   "outputs": [],
   "source": [
    "data = {\n",
    "    'Math': pd.Series([5, 4, 3, 5], index=['Student A', 'Student B', 'Student C', 'Student D']),\n",
    "    'Physics': pd.Series([4, 5, 4, 3], index=['Student A', 'Student B', 'Student C', 'Student D']),\n",
    "    'CS': pd.Series([3, 4, 5, 5], index=['Student A', 'Student B', 'Student C', 'Student D']),\n",
    "}"
   ]
  },
  {
   "cell_type": "code",
   "execution_count": 3,
   "id": "a868cf42-419a-49c9-a940-50b91b7d129d",
   "metadata": {},
   "outputs": [
    {
     "name": "stdout",
     "output_type": "stream",
     "text": [
      "\n",
      "DataFrame:\n",
      "           Math  Physics  CS\n",
      "Student A     5        4   3\n",
      "Student B     4        5   4\n",
      "Student C     3        4   5\n",
      "Student D     5        3   5\n"
     ]
    }
   ],
   "source": [
    "df = pd.DataFrame(data)\n",
    "print(\"\\nDataFrame:\")\n",
    "print(df)"
   ]
  },
  {
   "cell_type": "code",
   "execution_count": 4,
   "id": "bb9c2abc-75ba-44d1-9ae1-d27b61e294fb",
   "metadata": {},
   "outputs": [
    {
     "name": "stdout",
     "output_type": "stream",
     "text": [
      "\n",
      "Список дисциплін:\n",
      "['Math', 'Physics', 'CS']\n"
     ]
    }
   ],
   "source": [
    "print(\"\\nСписок дисциплін:\")\n",
    "print(df.columns.tolist())"
   ]
  },
  {
   "cell_type": "code",
   "execution_count": 5,
   "id": "fe218bdd-f39b-4a4f-84eb-c6ea3134c867",
   "metadata": {},
   "outputs": [
    {
     "name": "stdout",
     "output_type": "stream",
     "text": [
      "\n",
      "Оцінки з Physics:\n",
      "Student A    4\n",
      "Student B    5\n",
      "Student C    4\n",
      "Student D    3\n",
      "Name: Physics, dtype: int64\n"
     ]
    }
   ],
   "source": [
    "print(\"\\nОцінки з Physics:\")\n",
    "print(df['Physics'])"
   ]
  },
  {
   "cell_type": "code",
   "execution_count": 6,
   "id": "fdc43ec0-a99e-46ca-b837-6593b695aa2c",
   "metadata": {},
   "outputs": [
    {
     "name": "stdout",
     "output_type": "stream",
     "text": [
      "\n",
      "Оцінки Student A:\n",
      "Math       5\n",
      "Physics    4\n",
      "CS         3\n",
      "Name: Student A, dtype: int64\n"
     ]
    }
   ],
   "source": [
    "print(\"\\nОцінки Student A:\")\n",
    "print(df.loc['Student A'])"
   ]
  },
  {
   "cell_type": "code",
   "execution_count": 7,
   "id": "3f10b0d3-55a4-45c5-913c-f7c4cf14eef8",
   "metadata": {},
   "outputs": [
    {
     "name": "stdout",
     "output_type": "stream",
     "text": [
      "\n",
      "Оцінки двох останніх студентів:\n",
      "           Math  Physics  CS\n",
      "Student C     3        4   5\n",
      "Student D     5        3   5\n"
     ]
    }
   ],
   "source": [
    "print(\"\\nОцінки двох останніх студентів:\")\n",
    "print(df.tail(2))"
   ]
  },
  {
   "cell_type": "code",
   "execution_count": 8,
   "id": "454a1e98-b9ba-45a1-83a8-97c60f33ff0d",
   "metadata": {},
   "outputs": [
    {
     "name": "stdout",
     "output_type": "stream",
     "text": [
      "\n",
      "Оцінки Student A та Student B по Math і Physics:\n",
      "           Math  Physics\n",
      "Student A     5        4\n",
      "Student B     4        5\n"
     ]
    }
   ],
   "source": [
    "print(\"\\nОцінки Student A та Student B по Math і Physics:\")\n",
    "print(df.loc[['Student A', 'Student B'], ['Math', 'Physics']])"
   ]
  },
  {
   "cell_type": "code",
   "execution_count": 9,
   "id": "35da9926-7869-4d7f-af50-63a797393225",
   "metadata": {},
   "outputs": [
    {
     "name": "stdout",
     "output_type": "stream",
     "text": [
      "\n",
      "DataFrame після додавання History:\n",
      "           Math  Physics  CS  History\n",
      "Student A     5        4   3        4\n",
      "Student B     4        5   4        3\n",
      "Student C     3        4   5        5\n",
      "Student D     5        3   5        4\n"
     ]
    }
   ],
   "source": [
    "df['History'] = [4, 3, 5, 4]\n",
    "print(\"\\nDataFrame після додавання History:\")\n",
    "print(df)"
   ]
  },
  {
   "cell_type": "code",
   "execution_count": 10,
   "id": "8fcec411-1350-4bdc-ab9a-4d6154027816",
   "metadata": {},
   "outputs": [
    {
     "name": "stdout",
     "output_type": "stream",
     "text": [
      "\n",
      "Статистика по дисциплінах:\n",
      "           Math   Physics        CS   History\n",
      "count  4.000000  4.000000  4.000000  4.000000\n",
      "mean   4.250000  4.000000  4.250000  4.000000\n",
      "std    0.957427  0.816497  0.957427  0.816497\n",
      "min    3.000000  3.000000  3.000000  3.000000\n",
      "25%    3.750000  3.750000  3.750000  3.750000\n",
      "50%    4.500000  4.000000  4.500000  4.000000\n",
      "75%    5.000000  4.250000  5.000000  4.250000\n",
      "max    5.000000  5.000000  5.000000  5.000000\n"
     ]
    }
   ],
   "source": [
    "print(\"\\nСтатистика по дисциплінах:\")\n",
    "print(df.describe())"
   ]
  },
  {
   "cell_type": "code",
   "execution_count": 11,
   "id": "3be589a6-e737-48c8-850b-4814ee32a91d",
   "metadata": {},
   "outputs": [
    {
     "name": "stdout",
     "output_type": "stream",
     "text": [
      "\n",
      "Кількість входжень оцінок з Physics:\n",
      "Physics\n",
      "4    2\n",
      "5    1\n",
      "3    1\n",
      "Name: count, dtype: int64\n"
     ]
    }
   ],
   "source": [
    "print(\"\\nКількість входжень оцінок з Physics:\")\n",
    "print(df['Physics'].value_counts())"
   ]
  },
  {
   "cell_type": "code",
   "execution_count": 12,
   "id": "c620d902-c295-48d6-b0f3-8c189ba0ec48",
   "metadata": {},
   "outputs": [
    {
     "name": "stdout",
     "output_type": "stream",
     "text": [
      "\n",
      "DataFrame збережено у файл grades.csv.\n"
     ]
    }
   ],
   "source": [
    "df.to_csv('grades.csv', index=True)\n",
    "print(\"\\nDataFrame збережено у файл grades.csv.\")"
   ]
  },
  {
   "cell_type": "code",
   "execution_count": null,
   "id": "066ce0cc-d820-43db-a657-c8037e4dbc36",
   "metadata": {},
   "outputs": [],
   "source": []
  }
 ],
 "metadata": {
  "kernelspec": {
   "display_name": "Python 3 (ipykernel)",
   "language": "python",
   "name": "python3"
  },
  "language_info": {
   "codemirror_mode": {
    "name": "ipython",
    "version": 3
   },
   "file_extension": ".py",
   "mimetype": "text/x-python",
   "name": "python",
   "nbconvert_exporter": "python",
   "pygments_lexer": "ipython3",
   "version": "3.12.3"
  }
 },
 "nbformat": 4,
 "nbformat_minor": 5
}

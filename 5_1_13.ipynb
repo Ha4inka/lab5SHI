{
 "cells": [
  {
   "cell_type": "code",
   "execution_count": 1,
   "id": "fb35843c-33e5-46d3-8c7a-a504d32cb838",
   "metadata": {},
   "outputs": [],
   "source": [
    "import pandas as pd\n",
    "import numpy as np\n"
   ]
  },
  {
   "cell_type": "code",
   "execution_count": 2,
   "id": "76fa6c1b-e57d-48c1-9f22-9fbb76311545",
   "metadata": {},
   "outputs": [
    {
     "name": "stdout",
     "output_type": "stream",
     "text": [
      "Оригінальний Series:\n",
      "1    5.0\n",
      "2    4.0\n",
      "3    NaN\n",
      "4    3.0\n",
      "5    4.0\n",
      "6    5.0\n",
      "dtype: float64\n"
     ]
    }
   ],
   "source": [
    "grades = pd.Series([5, 4, np.nan, 3, 4, 5], index=[1, 2, 3, 4, 5, 6])\n",
    "print(\"Оригінальний Series:\")\n",
    "print(grades)"
   ]
  },
  {
   "cell_type": "code",
   "execution_count": 4,
   "id": "b37dbe6a-43b0-4cd8-a3ee-679727ca6af3",
   "metadata": {},
   "outputs": [
    {
     "name": "stdout",
     "output_type": "stream",
     "text": [
      "\n",
      "Series із змістовними індексами:\n",
      "Lab 1    5.0\n",
      "Lab 2    4.0\n",
      "Lab 3    NaN\n",
      "Lab 4    3.0\n",
      "Lab 5    4.0\n",
      "Lab 6    5.0\n",
      "dtype: float64\n"
     ]
    }
   ],
   "source": [
    "lab_names = ['Lab 1', 'Lab 2', 'Lab 3', 'Lab 4', 'Lab 5', 'Lab 6']\n",
    "grades_named = pd.Series(grades.values, index=lab_names)\n",
    "print(\"\\nSeries із змістовними індексами:\")\n",
    "print(grades_named)"
   ]
  },
  {
   "cell_type": "code",
   "execution_count": 5,
   "id": "316f4aa2-942a-4d62-8784-9691e27a3b6b",
   "metadata": {},
   "outputs": [
    {
     "name": "stdout",
     "output_type": "stream",
     "text": [
      "\n",
      "Оцінка по Lab 3: nan\n"
     ]
    }
   ],
   "source": [
    "print(\"\\nОцінка по Lab 3:\", grades_named['Lab 3'])"
   ]
  },
  {
   "cell_type": "code",
   "execution_count": 6,
   "id": "b64269c5-e1f8-4f5e-9a5d-a851f18d2926",
   "metadata": {},
   "outputs": [
    {
     "name": "stdout",
     "output_type": "stream",
     "text": [
      "\n",
      "Series із назвою:\n",
      "Lab 1    5.0\n",
      "Lab 2    4.0\n",
      "Lab 3    NaN\n",
      "Lab 4    3.0\n",
      "Lab 5    4.0\n",
      "Lab 6    5.0\n",
      "Name: Lab Grades, dtype: float64\n"
     ]
    }
   ],
   "source": [
    "grades_named.name = \"Lab Grades\"\n",
    "print(\"\\nSeries із назвою:\")\n",
    "print(grades_named)"
   ]
  },
  {
   "cell_type": "code",
   "execution_count": 7,
   "id": "86cfb3da-8d42-4fe5-b3b6-1dcd497ff599",
   "metadata": {},
   "outputs": [
    {
     "name": "stdout",
     "output_type": "stream",
     "text": [
      "\n",
      "Оцінки по Lab 2-3:\n",
      "Lab 2    4.0\n",
      "Lab 3    NaN\n",
      "Name: Lab Grades, dtype: float64\n"
     ]
    }
   ],
   "source": [
    "print(\"\\nОцінки по Lab 2-3:\")\n",
    "print(grades_named[['Lab 2', 'Lab 3']])"
   ]
  },
  {
   "cell_type": "code",
   "execution_count": 9,
   "id": "97407891-1c57-49b7-b239-9f4a2bc58a33",
   "metadata": {},
   "outputs": [
    {
     "name": "stdout",
     "output_type": "stream",
     "text": [
      "\n",
      "Оцінки у зворотному порядку:\n",
      "Lab 6    5.0\n",
      "Lab 5    4.0\n",
      "Lab 4    3.0\n",
      "Lab 3    NaN\n",
      "Lab 2    4.0\n",
      "Lab 1    5.0\n",
      "Name: Lab Grades, dtype: float64\n"
     ]
    }
   ],
   "source": [
    "print(\"\\nОцінки у зворотному порядку:\")\n",
    "print(grades_named[::-1])"
   ]
  },
  {
   "cell_type": "code",
   "execution_count": 10,
   "id": "3588a2f1-8be5-4776-9ece-2795ce0f9fbf",
   "metadata": {},
   "outputs": [
    {
     "name": "stdout",
     "output_type": "stream",
     "text": [
      "\n",
      "Лабораторні роботи з оцінкою ≥ 4:\n",
      "Lab 1    5.0\n",
      "Lab 2    4.0\n",
      "Lab 5    4.0\n",
      "Lab 6    5.0\n",
      "Name: Lab Grades, dtype: float64\n"
     ]
    }
   ],
   "source": [
    "print(\"\\nЛабораторні роботи з оцінкою ≥ 4:\")\n",
    "print(grades_named[grades_named >= 4])"
   ]
  },
  {
   "cell_type": "code",
   "execution_count": 11,
   "id": "7ba5b819-1db9-41b1-8f15-7ed01abb22ba",
   "metadata": {},
   "outputs": [
    {
     "name": "stdout",
     "output_type": "stream",
     "text": [
      "\n",
      "Series, відсортований за індексами:\n",
      "Lab 1    5.0\n",
      "Lab 2    4.0\n",
      "Lab 3    NaN\n",
      "Lab 4    3.0\n",
      "Lab 5    4.0\n",
      "Lab 6    5.0\n",
      "Name: Lab Grades, dtype: float64\n"
     ]
    }
   ],
   "source": [
    "print(\"\\nSeries, відсортований за індексами:\")\n",
    "print(grades_named.sort_index())"
   ]
  },
  {
   "cell_type": "code",
   "execution_count": 12,
   "id": "e7a40783-5dd8-46d7-a7ad-2544355ee685",
   "metadata": {},
   "outputs": [
    {
     "name": "stdout",
     "output_type": "stream",
     "text": [
      "\n",
      "Series, відсортований за значеннями:\n",
      "Lab 4    3.0\n",
      "Lab 2    4.0\n",
      "Lab 5    4.0\n",
      "Lab 1    5.0\n",
      "Lab 6    5.0\n",
      "Lab 3    NaN\n",
      "Name: Lab Grades, dtype: float64\n"
     ]
    }
   ],
   "source": [
    "print(\"\\nSeries, відсортований за значеннями:\")\n",
    "print(grades_named.sort_values())"
   ]
  },
  {
   "cell_type": "code",
   "execution_count": null,
   "id": "103d8eba-be33-4f41-858f-2fc3df0b7c24",
   "metadata": {},
   "outputs": [],
   "source": []
  }
 ],
 "metadata": {
  "kernelspec": {
   "display_name": "Python 3 (ipykernel)",
   "language": "python",
   "name": "python3"
  },
  "language_info": {
   "codemirror_mode": {
    "name": "ipython",
    "version": 3
   },
   "file_extension": ".py",
   "mimetype": "text/x-python",
   "name": "python",
   "nbconvert_exporter": "python",
   "pygments_lexer": "ipython3",
   "version": "3.12.3"
  }
 },
 "nbformat": 4,
 "nbformat_minor": 5
}
